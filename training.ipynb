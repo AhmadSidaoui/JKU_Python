{
 "cells": [
  {
   "cell_type": "code",
   "execution_count": 1,
   "metadata": {},
   "outputs": [
    {
     "name": "stdout",
     "output_type": "stream",
     "text": [
      "{'x': 2, 'y': 3, 'args': (3, 4, 324, 2, 4, 23, 4, 23, 44), 'kwargs': {'z': 34324}}\n"
     ]
    },
    {
     "data": {
      "text/plain": [
       "(2, (3, 4, 324, 2, 4, 23, 4, 23, 44), 3, {'z': 34324})"
      ]
     },
     "execution_count": 1,
     "metadata": {},
     "output_type": "execute_result"
    }
   ],
   "source": [
    "def fun(x, *args, y, **kwargs):\n",
    "    print(locals())\n",
    "    return x, args, y, kwargs\n",
    "\n",
    "\n",
    "fun(2, 3,4,324,2,4,23,4,23,44, z= 34324, y = 3)"
   ]
  },
  {
   "cell_type": "code",
   "execution_count": 3,
   "metadata": {},
   "outputs": [
    {
     "data": {
      "text/plain": [
       "3"
      ]
     },
     "execution_count": 3,
     "metadata": {},
     "output_type": "execute_result"
    }
   ],
   "source": [
    "x = 1\n",
    "\n",
    "def fun(b):\n",
    "    global x\n",
    "    \n",
    "    c = x + b\n",
    "    x = 2\n",
    "    return c\n",
    "\n",
    "fun(2)"
   ]
  },
  {
   "cell_type": "code",
   "execution_count": null,
   "metadata": {},
   "outputs": [
    {
     "name": "stdout",
     "output_type": "stream",
     "text": [
      "[2]\n",
      "[2, 1]\n"
     ]
    },
    {
     "data": {
      "text/plain": [
       "[2, 1]"
      ]
     },
     "execution_count": 21,
     "metadata": {},
     "output_type": "execute_result"
    }
   ],
   "source": [
    "# using default arguments with mutable objects is risky because we can modify that default argument\n",
    "def fun(mylist = [2]):\n",
    "    print(mylist)\n",
    "    return mylist    \n",
    "myvariable = fun()\n",
    "myvariable.append(1)\n",
    "fun()"
   ]
  },
  {
   "cell_type": "markdown",
   "metadata": {},
   "source": [
    "# Function Decorator"
   ]
  },
  {
   "cell_type": "code",
   "execution_count": null,
   "metadata": {},
   "outputs": [
    {
     "name": "stdout",
     "output_type": "stream",
     "text": [
      "Arguments: (2,), {}\n",
      "Return Value: 3\n"
     ]
    }
   ],
   "source": [
    "x = 1\n",
    "\n",
    "def debug_decorator(func):\n",
    "    def wrapper(*args, **kwargs):\n",
    "        print(f\"Arguments: {args}, {kwargs}\")\n",
    "        result = func(*args, **kwargs)\n",
    "        print(f\"Return Value: {result}\")\n",
    "    return wrapper\n",
    "\n",
    "@debug_decorator\n",
    "def fun(b):\n",
    "    global x\n",
    "    c = x + b\n",
    "    x = 2\n",
    "    return c\n",
    "\n",
    "fun(2)\n"
   ]
  },
  {
   "cell_type": "code",
   "execution_count": null,
   "metadata": {},
   "outputs": [],
   "source": []
  }
 ],
 "metadata": {
  "kernelspec": {
   "display_name": "Python 3",
   "language": "python",
   "name": "python3"
  },
  "language_info": {
   "codemirror_mode": {
    "name": "ipython",
    "version": 3
   },
   "file_extension": ".py",
   "mimetype": "text/x-python",
   "name": "python",
   "nbconvert_exporter": "python",
   "pygments_lexer": "ipython3",
   "version": "3.11.0"
  }
 },
 "nbformat": 4,
 "nbformat_minor": 2
}
